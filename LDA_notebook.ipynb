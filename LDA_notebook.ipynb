{
 "cells": [
  {
   "cell_type": "code",
   "execution_count": 1,
   "metadata": {},
   "outputs": [
    {
     "name": "stderr",
     "output_type": "stream",
     "text": [
      "/home/keval/envs/topicmodeling/lib/python3.10/site-packages/past/builtins/misc.py:45: DeprecationWarning: the imp module is deprecated in favour of importlib and slated for removal in Python 3.12; see the module's documentation for alternative uses\n",
      "  from imp import reload\n"
     ]
    }
   ],
   "source": [
    "import os\n",
    "import pandas as pd\n",
    "from PyPDF2 import PdfReader\n",
    "import gensim\n",
    "from gensim import corpora\n",
    "from nltk.corpus import stopwords\n",
    "from gensim.models import CoherenceModel\n",
    "\n",
    "import pyLDAvis\n",
    "import pyLDAvis.gensim_models\n",
    "import matplotlib.pyplot as plt\n",
    "from pprint import pprint"
   ]
  },
  {
   "cell_type": "markdown",
   "metadata": {},
   "source": [
    "# Reading pdf files from inside pdfs folder and storing inside a dataframe"
   ]
  },
  {
   "cell_type": "code",
   "execution_count": 2,
   "metadata": {},
   "outputs": [
    {
     "data": {
      "text/html": [
       "<div>\n",
       "<style scoped>\n",
       "    .dataframe tbody tr th:only-of-type {\n",
       "        vertical-align: middle;\n",
       "    }\n",
       "\n",
       "    .dataframe tbody tr th {\n",
       "        vertical-align: top;\n",
       "    }\n",
       "\n",
       "    .dataframe thead th {\n",
       "        text-align: right;\n",
       "    }\n",
       "</style>\n",
       "<table border=\"1\" class=\"dataframe\">\n",
       "  <thead>\n",
       "    <tr style=\"text-align: right;\">\n",
       "      <th></th>\n",
       "      <th>0</th>\n",
       "    </tr>\n",
       "  </thead>\n",
       "  <tbody>\n",
       "    <tr>\n",
       "      <th>0</th>\n",
       "      <td>Vifor Pharma Ltd. \\n 2018 Responsibility Highl...</td>\n",
       "    </tr>\n",
       "    <tr>\n",
       "      <th>1</th>\n",
       "      <td>Powering the \\n\\ndigital economy\\nTelecity Gro...</td>\n",
       "    </tr>\n",
       "    <tr>\n",
       "      <th>2</th>\n",
       "      <td>SUSTAINABILITY REPORT 2018\\nABOUT THIS REPORT\\...</td>\n",
       "    </tr>\n",
       "    <tr>\n",
       "      <th>3</th>\n",
       "      <td>GRI Report 2017\\n \\n \\n \\nPage \\n2\\n \\n \\nTabl...</td>\n",
       "    </tr>\n",
       "    <tr>\n",
       "      <th>4</th>\n",
       "      <td>SFS Group AG\\nSustainability Report\\nSustain\\n...</td>\n",
       "    </tr>\n",
       "    <tr>\n",
       "      <th>5</th>\n",
       "      <td>1\\nNorwegian Sustainability Report \\n2018\\n1.\\...</td>\n",
       "    </tr>\n",
       "  </tbody>\n",
       "</table>\n",
       "</div>"
      ],
      "text/plain": [
       "                                                   0\n",
       "0  Vifor Pharma Ltd. \\n 2018 Responsibility Highl...\n",
       "1  Powering the \\n\\ndigital economy\\nTelecity Gro...\n",
       "2  SUSTAINABILITY REPORT 2018\\nABOUT THIS REPORT\\...\n",
       "3  GRI Report 2017\\n \\n \\n \\nPage \\n2\\n \\n \\nTabl...\n",
       "4  SFS Group AG\\nSustainability Report\\nSustain\\n...\n",
       "5  1\\nNorwegian Sustainability Report \\n2018\\n1.\\..."
      ]
     },
     "execution_count": 2,
     "metadata": {},
     "output_type": "execute_result"
    }
   ],
   "source": [
    "files = [f for f in os.listdir(\"pdfs/\") if os.path.isfile(\"pdfs/\"+f) and f.endswith('.pdf')]\n",
    "\n",
    "data = []\n",
    "\n",
    "for name in files:\n",
    "    reader = PdfReader(\"pdfs/\"+name)\n",
    "    number_of_pages = len(reader.pages)\n",
    "    text = \"\"\n",
    "    for i in range(number_of_pages):\n",
    "        page = reader.pages[i]\n",
    "        tt = page.extract_text()\n",
    "        text +=tt\n",
    "    data.append(text)\n",
    "    \n",
    "df = pd.DataFrame(data, index=None)\n",
    "df"
   ]
  },
  {
   "cell_type": "markdown",
   "metadata": {},
   "source": [
    "# Converting the text from pdfs into words"
   ]
  },
  {
   "cell_type": "code",
   "execution_count": 3,
   "metadata": {},
   "outputs": [
    {
     "data": {
      "text/html": [
       "<div>\n",
       "<style scoped>\n",
       "    .dataframe tbody tr th:only-of-type {\n",
       "        vertical-align: middle;\n",
       "    }\n",
       "\n",
       "    .dataframe tbody tr th {\n",
       "        vertical-align: top;\n",
       "    }\n",
       "\n",
       "    .dataframe thead th {\n",
       "        text-align: right;\n",
       "    }\n",
       "</style>\n",
       "<table border=\"1\" class=\"dataframe\">\n",
       "  <thead>\n",
       "    <tr style=\"text-align: right;\">\n",
       "      <th></th>\n",
       "      <th>0</th>\n",
       "    </tr>\n",
       "  </thead>\n",
       "  <tbody>\n",
       "    <tr>\n",
       "      <th>0</th>\n",
       "      <td>[vifor, pharma, ltd, responsibility, highlight...</td>\n",
       "    </tr>\n",
       "    <tr>\n",
       "      <th>1</th>\n",
       "      <td>[powering, the, digital, economy, telecity, gr...</td>\n",
       "    </tr>\n",
       "    <tr>\n",
       "      <th>2</th>\n",
       "      <td>[sustainability, report, about, this, report, ...</td>\n",
       "    </tr>\n",
       "    <tr>\n",
       "      <th>3</th>\n",
       "      <td>[gri, report, page, table, of, content, gri, g...</td>\n",
       "    </tr>\n",
       "    <tr>\n",
       "      <th>4</th>\n",
       "      <td>[sfs, group, ag, sustainability, report, susta...</td>\n",
       "    </tr>\n",
       "    <tr>\n",
       "      <th>5</th>\n",
       "      <td>[norwegian, sustainability, report, highlights...</td>\n",
       "    </tr>\n",
       "  </tbody>\n",
       "</table>\n",
       "</div>"
      ],
      "text/plain": [
       "                                                   0\n",
       "0  [vifor, pharma, ltd, responsibility, highlight...\n",
       "1  [powering, the, digital, economy, telecity, gr...\n",
       "2  [sustainability, report, about, this, report, ...\n",
       "3  [gri, report, page, table, of, content, gri, g...\n",
       "4  [sfs, group, ag, sustainability, report, susta...\n",
       "5  [norwegian, sustainability, report, highlights..."
      ]
     },
     "execution_count": 3,
     "metadata": {},
     "output_type": "execute_result"
    }
   ],
   "source": [
    "def doc_to_words(doc):\n",
    "    return(gensim.utils.simple_preprocess(str(doc), deacc=True))\n",
    "\n",
    "for idx, item in enumerate(df[0]):\n",
    "    df[0][idx]=list(doc_to_words(item))\n",
    "df"
   ]
  },
  {
   "cell_type": "markdown",
   "metadata": {},
   "source": [
    "# Printing number of words inside each pdfs"
   ]
  },
  {
   "cell_type": "code",
   "execution_count": 4,
   "metadata": {},
   "outputs": [
    {
     "name": "stdout",
     "output_type": "stream",
     "text": [
      "12112\n",
      "45323\n",
      "49\n",
      "6224\n",
      "1254\n",
      "6995\n"
     ]
    }
   ],
   "source": [
    "for doc in df[0]:\n",
    "    print(len(doc))"
   ]
  },
  {
   "cell_type": "markdown",
   "metadata": {},
   "source": [
    "# Removing stopwords from the words list"
   ]
  },
  {
   "cell_type": "code",
   "execution_count": 5,
   "metadata": {
    "scrolled": false
   },
   "outputs": [
    {
     "data": {
      "text/html": [
       "<div>\n",
       "<style scoped>\n",
       "    .dataframe tbody tr th:only-of-type {\n",
       "        vertical-align: middle;\n",
       "    }\n",
       "\n",
       "    .dataframe tbody tr th {\n",
       "        vertical-align: top;\n",
       "    }\n",
       "\n",
       "    .dataframe thead th {\n",
       "        text-align: right;\n",
       "    }\n",
       "</style>\n",
       "<table border=\"1\" class=\"dataframe\">\n",
       "  <thead>\n",
       "    <tr style=\"text-align: right;\">\n",
       "      <th></th>\n",
       "      <th>0</th>\n",
       "    </tr>\n",
       "  </thead>\n",
       "  <tbody>\n",
       "    <tr>\n",
       "      <th>0</th>\n",
       "      <td>[vifor, pharma, ltd, responsibility, highlight...</td>\n",
       "    </tr>\n",
       "    <tr>\n",
       "      <th>1</th>\n",
       "      <td>[powering, digital, economy, telecity, plc, an...</td>\n",
       "    </tr>\n",
       "    <tr>\n",
       "      <th>2</th>\n",
       "      <td>[sustainability, bp, emissions, employee, empl...</td>\n",
       "    </tr>\n",
       "    <tr>\n",
       "      <th>3</th>\n",
       "      <td>[gri, page, table, content, gri, general, disc...</td>\n",
       "    </tr>\n",
       "    <tr>\n",
       "      <th>4</th>\n",
       "      <td>[sfs, ag, sustainability, sustain, ability, sf...</td>\n",
       "    </tr>\n",
       "    <tr>\n",
       "      <th>5</th>\n",
       "      <td>[norwegian, sustainability, highlights, letter...</td>\n",
       "    </tr>\n",
       "  </tbody>\n",
       "</table>\n",
       "</div>"
      ],
      "text/plain": [
       "                                                   0\n",
       "0  [vifor, pharma, ltd, responsibility, highlight...\n",
       "1  [powering, digital, economy, telecity, plc, an...\n",
       "2  [sustainability, bp, emissions, employee, empl...\n",
       "3  [gri, page, table, content, gri, general, disc...\n",
       "4  [sfs, ag, sustainability, sustain, ability, sf...\n",
       "5  [norwegian, sustainability, highlights, letter..."
      ]
     },
     "execution_count": 5,
     "metadata": {},
     "output_type": "execute_result"
    }
   ],
   "source": [
    "stop_words = stopwords.words('english')\n",
    "stop_words.extend(['from', 'subject', 're', 'edu', 'group', 'financial', 'report'])\n",
    "\n",
    "def remove_stopwords(texts):\n",
    "    return [word for word in texts if word not in stop_words]\n",
    "\n",
    "for idx, item in enumerate(df[0]):\n",
    "    df[0][idx]=remove_stopwords(item)\n",
    "    \n",
    "df"
   ]
  },
  {
   "cell_type": "markdown",
   "metadata": {},
   "source": [
    "# Printing length of words after removing stopwords"
   ]
  },
  {
   "cell_type": "code",
   "execution_count": 6,
   "metadata": {},
   "outputs": [
    {
     "name": "stdout",
     "output_type": "stream",
     "text": [
      "8007\n",
      "28399\n",
      "42\n",
      "4606\n",
      "752\n",
      "4389\n"
     ]
    }
   ],
   "source": [
    "for doc in df[0]:\n",
    "    print(len(doc))"
   ]
  },
  {
   "cell_type": "markdown",
   "metadata": {},
   "source": [
    "# Creating unique token for each word"
   ]
  },
  {
   "cell_type": "code",
   "execution_count": 8,
   "metadata": {
    "scrolled": false
   },
   "outputs": [
    {
     "name": "stdout",
     "output_type": "stream",
     "text": [
      "     0                                                  1\n",
      "0    0  0.001*\"pharma\" + 0.001*\"vifor\" + 0.001*\"respon...\n",
      "1    1  0.001*\"vifor\" + 0.001*\"pharma\" + 0.001*\"emissi...\n",
      "2    2  0.001*\"pharma\" + 0.001*\"vifor\" + 0.001*\"patien...\n",
      "3    3  0.001*\"pharma\" + 0.001*\"vifor\" + 0.001*\"respon...\n",
      "4    4  0.001*\"pharma\" + 0.001*\"vifor\" + 0.001*\"patien...\n",
      "5    5  0.001*\"vifor\" + 0.001*\"employees\" + 0.001*\"pha...\n",
      "6    6  0.001*\"pharma\" + 0.001*\"vifor\" + 0.001*\"employ...\n",
      "7    7  0.001*\"vifor\" + 0.001*\"pharma\" + 0.001*\"employ...\n",
      "8    8  0.001*\"pharma\" + 0.001*\"vifor\" + 0.001*\"employ...\n",
      "9    9  0.002*\"vifor\" + 0.001*\"pharma\" + 0.001*\"employ...\n",
      "10  10  0.001*\"pharma\" + 0.001*\"vifor\" + 0.001*\"employ...\n",
      "11  11  0.001*\"pharma\" + 0.001*\"employees\" + 0.001*\"vi...\n",
      "12  12  0.001*\"pharma\" + 0.001*\"vifor\" + 0.001*\"employ...\n",
      "13  13  0.001*\"pharma\" + 0.001*\"employees\" + 0.001*\"vi...\n",
      "14  14  0.001*\"vifor\" + 0.001*\"pharma\" + 0.001*\"patien...\n",
      "15  15  0.001*\"pharma\" + 0.001*\"vifor\" + 0.001*\"patien...\n",
      "16  16  0.001*\"pharma\" + 0.001*\"vifor\" + 0.001*\"employ...\n",
      "17  17  0.021*\"pharma\" + 0.018*\"vifor\" + 0.014*\"employ...\n",
      "18  18  0.001*\"employees\" + 0.001*\"pharma\" + 0.001*\"vi...\n",
      "19  19  0.001*\"pharma\" + 0.001*\"vifor\" + 0.001*\"respon...\n",
      "\n",
      "Perplexity:  -7.643647497150206\n",
      "\n",
      "Coherence Score:  nan\n",
      "     0                                                  1\n",
      "0    0  0.001*\"year\" + 0.001*\"data\" + 0.000*\"directors...\n",
      "1    1  0.002*\"year\" + 0.001*\"committee\" + 0.001*\"dire...\n",
      "2    2  0.002*\"year\" + 0.002*\"annual\" + 0.001*\"decembe...\n",
      "3    3  0.001*\"year\" + 0.001*\"directors\" + 0.001*\"boar...\n",
      "4    4  0.001*\"year\" + 0.001*\"data\" + 0.001*\"board\" + ...\n",
      "5    5  0.011*\"year\" + 0.008*\"board\" + 0.007*\"director...\n",
      "6    6  0.001*\"year\" + 0.001*\"board\" + 0.001*\"annual\" ...\n",
      "7    7  0.001*\"year\" + 0.001*\"board\" + 0.001*\"annual\" ...\n",
      "8    8  0.001*\"year\" + 0.001*\"directors\" + 0.001*\"boar...\n",
      "9    9  0.001*\"year\" + 0.001*\"december\" + 0.001*\"execu...\n",
      "10  10  0.000*\"year\" + 0.000*\"board\" + 0.000*\"committe...\n",
      "11  11  0.000*\"year\" + 0.000*\"data\" + 0.000*\"annual\" +...\n",
      "12  12  0.001*\"year\" + 0.000*\"directors\" + 0.000*\"data...\n",
      "13  13  0.001*\"year\" + 0.001*\"directors\" + 0.001*\"boar...\n",
      "14  14  0.000*\"year\" + 0.000*\"data\" + 0.000*\"directors...\n",
      "15  15  0.002*\"year\" + 0.002*\"board\" + 0.001*\"data\" + ...\n",
      "16  16  0.001*\"year\" + 0.000*\"directors\" + 0.000*\"data...\n",
      "17  17  0.001*\"year\" + 0.000*\"board\" + 0.000*\"executiv...\n",
      "18  18  0.001*\"year\" + 0.001*\"directors\" + 0.001*\"exec...\n",
      "19  19  0.001*\"year\" + 0.001*\"data\" + 0.001*\"directors...\n",
      "\n",
      "Perplexity:  -8.15562939864027\n",
      "\n",
      "Coherence Score:  nan\n",
      "     0                                                  1\n",
      "0    0  0.043*\"romanian\" + 0.043*\"sintef\" + 0.043*\"ntn...\n",
      "1    1  0.043*\"romanian\" + 0.043*\"sintef\" + 0.043*\"ntn...\n",
      "2    2  0.043*\"romanian\" + 0.043*\"sintef\" + 0.043*\"ntn...\n",
      "3    3  0.043*\"romanian\" + 0.043*\"sintef\" + 0.043*\"ntn...\n",
      "4    4  0.043*\"romanian\" + 0.043*\"sintef\" + 0.043*\"ntn...\n",
      "5    5  0.043*\"romanian\" + 0.043*\"sintef\" + 0.043*\"ntn...\n",
      "6    6  0.043*\"romanian\" + 0.043*\"sintef\" + 0.043*\"ntn...\n",
      "7    7  0.043*\"romanian\" + 0.043*\"sintef\" + 0.043*\"ntn...\n",
      "8    8  0.043*\"romanian\" + 0.043*\"sintef\" + 0.043*\"ntn...\n",
      "9    9  0.043*\"romanian\" + 0.043*\"sintef\" + 0.043*\"ntn...\n",
      "10  10  0.043*\"romanian\" + 0.043*\"sintef\" + 0.043*\"ntn...\n",
      "11  11  0.043*\"romanian\" + 0.043*\"sintef\" + 0.043*\"ntn...\n",
      "12  12  0.059*\"tonnes\" + 0.050*\"emissions\" + 0.049*\"em...\n",
      "13  13  0.043*\"romanian\" + 0.043*\"sintef\" + 0.043*\"ntn...\n",
      "14  14  0.043*\"romanian\" + 0.043*\"sintef\" + 0.043*\"ntn...\n",
      "15  15  0.043*\"romanian\" + 0.043*\"sintef\" + 0.043*\"ntn...\n",
      "16  16  0.043*\"romanian\" + 0.043*\"sintef\" + 0.043*\"ntn...\n",
      "17  17  0.043*\"romanian\" + 0.043*\"sintef\" + 0.043*\"ntn...\n",
      "18  18  0.043*\"romanian\" + 0.043*\"sintef\" + 0.043*\"ntn...\n",
      "19  19  0.210*\"tonnes\" + 0.094*\"employee\" + 0.071*\"sm\"...\n",
      "\n",
      "Perplexity:  -4.164149171539715\n",
      "\n",
      "Coherence Score:  nan\n",
      "     0                                                  1\n",
      "0    0  0.001*\"gri\" + 0.001*\"page\" + 0.001*\"dksh\" + 0....\n",
      "1    1  0.001*\"gri\" + 0.001*\"page\" + 0.001*\"dksh\" + 0....\n",
      "2    2  0.001*\"gri\" + 0.001*\"page\" + 0.001*\"dksh\" + 0....\n",
      "3    3  0.001*\"gri\" + 0.001*\"page\" + 0.001*\"management...\n",
      "4    4  0.001*\"gri\" + 0.001*\"page\" + 0.001*\"business\" ...\n",
      "5    5  0.001*\"gri\" + 0.001*\"page\" + 0.001*\"management...\n",
      "6    6  0.001*\"gri\" + 0.001*\"page\" + 0.001*\"dksh\" + 0....\n",
      "7    7  0.001*\"gri\" + 0.001*\"page\" + 0.001*\"dksh\" + 0....\n",
      "8    8  0.025*\"gri\" + 0.014*\"page\" + 0.010*\"dksh\" + 0....\n",
      "9    9  0.001*\"gri\" + 0.001*\"management\" + 0.001*\"busi...\n",
      "10  10  0.001*\"gri\" + 0.001*\"page\" + 0.001*\"dksh\" + 0....\n",
      "11  11  0.001*\"gri\" + 0.001*\"page\" + 0.001*\"dksh\" + 0....\n",
      "12  12  0.001*\"gri\" + 0.001*\"dksh\" + 0.001*\"business\" ...\n",
      "13  13  0.001*\"gri\" + 0.001*\"page\" + 0.001*\"management...\n",
      "14  14  0.001*\"gri\" + 0.001*\"page\" + 0.001*\"management...\n",
      "15  15  0.001*\"gri\" + 0.001*\"page\" + 0.001*\"dksh\" + 0....\n",
      "16  16  0.001*\"gri\" + 0.001*\"page\" + 0.001*\"management...\n",
      "17  17  0.001*\"gri\" + 0.001*\"page\" + 0.001*\"dksh\" + 0....\n",
      "18  18  0.001*\"gri\" + 0.001*\"page\" + 0.001*\"dksh\" + 0....\n",
      "19  19  0.001*\"gri\" + 0.001*\"page\" + 0.001*\"dksh\" + 0....\n",
      "\n",
      "Perplexity:  -8.213320628203261\n",
      "\n",
      "Coherence Score:  nan\n",
      "     0                                                  1\n",
      "0    0  0.002*\"sfs\" + 0.002*\"sustainability\" + 0.002*\"...\n",
      "1    1  0.002*\"sfs\" + 0.002*\"sustainability\" + 0.002*\"...\n",
      "2    2  0.003*\"sfs\" + 0.002*\"sustainability\" + 0.002*\"...\n",
      "3    3  0.002*\"sfs\" + 0.002*\"sustainability\" + 0.002*\"...\n",
      "4    4  0.002*\"sfs\" + 0.002*\"sustainability\" + 0.002*\"...\n",
      "5    5  0.002*\"sfs\" + 0.002*\"sustainability\" + 0.002*\"...\n",
      "6    6  0.016*\"criteria\" + 0.016*\"zero\" + 0.016*\"faste...\n",
      "7    7  0.003*\"sfs\" + 0.003*\"sustainability\" + 0.002*\"...\n",
      "8    8  0.003*\"sfs\" + 0.003*\"sustainability\" + 0.002*\"...\n",
      "9    9  0.002*\"sfs\" + 0.002*\"sustainability\" + 0.002*\"...\n",
      "10  10  0.003*\"sfs\" + 0.003*\"sustainability\" + 0.002*\"...\n",
      "11  11  0.003*\"sfs\" + 0.002*\"sustainability\" + 0.002*\"...\n",
      "12  12  0.003*\"sfs\" + 0.003*\"sustainability\" + 0.002*\"...\n",
      "13  13  0.003*\"sfs\" + 0.003*\"sustainability\" + 0.002*\"...\n",
      "14  14  0.003*\"sfs\" + 0.002*\"sustainability\" + 0.002*\"...\n",
      "15  15  0.003*\"sfs\" + 0.003*\"sustainability\" + 0.002*\"...\n",
      "16  16  0.003*\"sfs\" + 0.002*\"economic\" + 0.002*\"sustai...\n",
      "17  17  0.006*\"sfs\" + 0.004*\"sustainability\" + 0.004*\"...\n",
      "18  18  0.035*\"sfs\" + 0.022*\"sustainability\" + 0.013*\"...\n",
      "19  19  0.002*\"sfs\" + 0.002*\"sustainability\" + 0.002*\"...\n",
      "\n",
      "Perplexity:  -7.425955793007891\n",
      "\n",
      "Coherence Score:  nan\n",
      "     0                                                  1\n",
      "0    0  0.001*\"norwegian\" + 0.001*\"sustainability\" + 0...\n",
      "1    1  0.001*\"norwegian\" + 0.001*\"sustainability\" + 0...\n",
      "2    2  0.001*\"norwegian\" + 0.001*\"emissions\" + 0.001*...\n",
      "3    3  0.001*\"norwegian\" + 0.001*\"sustainability\" + 0...\n",
      "4    4  0.001*\"norwegian\" + 0.001*\"sustainability\" + 0...\n",
      "5    5  0.001*\"norwegian\" + 0.001*\"emissions\" + 0.001*...\n",
      "6    6  0.001*\"norwegian\" + 0.001*\"emissions\" + 0.001*...\n",
      "7    7  0.001*\"norwegian\" + 0.001*\"fuel\" + 0.001*\"sust...\n",
      "8    8  0.002*\"norwegian\" + 0.001*\"emissions\" + 0.001*...\n",
      "9    9  0.001*\"norwegian\" + 0.001*\"sustainability\" + 0...\n",
      "10  10  0.003*\"norwegian\" + 0.001*\"emissions\" + 0.001*...\n",
      "11  11  0.017*\"norwegian\" + 0.011*\"involve\" + 0.011*\"m...\n",
      "12  12  0.001*\"norwegian\" + 0.001*\"emissions\" + 0.001*...\n",
      "13  13  0.002*\"norwegian\" + 0.001*\"emissions\" + 0.001*...\n",
      "14  14  0.034*\"norwegian\" + 0.009*\"sustainability\" + 0...\n",
      "15  15  0.001*\"norwegian\" + 0.001*\"management\" + 0.001...\n",
      "16  16  0.001*\"norwegian\" + 0.001*\"sustainability\" + 0...\n",
      "17  17  0.002*\"norwegian\" + 0.001*\"fuel\" + 0.001*\"emis...\n",
      "18  18  0.001*\"norwegian\" + 0.001*\"fuel\" + 0.001*\"sust...\n",
      "19  19  0.001*\"norwegian\" + 0.001*\"emissions\" + 0.001*...\n",
      "\n",
      "Perplexity:  -7.707651524425341\n",
      "\n",
      "Coherence Score:  nan\n"
     ]
    }
   ],
   "source": [
    "for doc in df[0]:\n",
    "    id2word = corpora.Dictionary([doc])\n",
    "    id2word.token2id\n",
    "    corpus = [id2word.doc2bow(text) for text in [doc]]\n",
    "    lda_model = gensim.models.ldamodel.LdaModel(corpus=corpus,\n",
    "                                           id2word=id2word,\n",
    "                                           num_topics=20, \n",
    "                                           random_state=100,\n",
    "                                           update_every=1,\n",
    "                                           chunksize=100,\n",
    "                                           passes=10,\n",
    "                                           alpha='auto',\n",
    "                                           per_word_topics=True)\n",
    "    top_topics = pd.DataFrame(lda_model.print_topics())\n",
    "    print(top_topics)\n",
    "    print('\\nPerplexity: ', lda_model.log_perplexity(corpus))\n",
    "\n",
    "    coherence_model_lda = CoherenceModel(model=lda_model, texts=[doc], dictionary=id2word, coherence='c_v')\n",
    "    coherence_lda = coherence_model_lda.get_coherence()\n",
    "    print('\\nCoherence Score: ', coherence_lda)\n"
   ]
  },
  {
   "cell_type": "code",
   "execution_count": null,
   "metadata": {},
   "outputs": [],
   "source": [
    "# pyLDAvis.enable_notebook()\n",
    "# vis = pyLDAvis.gensim_models.prepare(lda_model, corpus, id2word)\n",
    "\n",
    "# pyLDAvis.display(vis)"
   ]
  },
  {
   "cell_type": "code",
   "execution_count": null,
   "metadata": {},
   "outputs": [],
   "source": []
  }
 ],
 "metadata": {
  "kernelspec": {
   "display_name": "topicmodeling",
   "language": "python",
   "name": "topicmodeling"
  },
  "language_info": {
   "codemirror_mode": {
    "name": "ipython",
    "version": 3
   },
   "file_extension": ".py",
   "mimetype": "text/x-python",
   "name": "python",
   "nbconvert_exporter": "python",
   "pygments_lexer": "ipython3",
   "version": "3.10.4"
  },
  "vscode": {
   "interpreter": {
    "hash": "916b0bdaa1d538e94f3af2e5e7ea6df2b9499076e840a083f0f9fe5723cc9ed1"
   }
  }
 },
 "nbformat": 4,
 "nbformat_minor": 2
}
